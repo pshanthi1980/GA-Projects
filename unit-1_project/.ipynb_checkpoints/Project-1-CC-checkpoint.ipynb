{
 "cells": [
  {
   "cell_type": "code",
   "execution_count": null,
   "metadata": {},
   "outputs": [],
   "source": [
    "<img src=\"http://imgur.com/1ZcRyrc.png\" style=\"float: left; margin: 20px; height: 55px\">\n",
    "\n",
    "# Project 1: Python Coding Exercises\n",
    "\n",
    "_Authors: Joseph Nelson (DC) _\n",
    "\n",
    "---"
   ]
  },
  {
   "cell_type": "markdown",
   "metadata": {},
   "source": [
    "The following code challenges are drawn from common exercises used in technical interviews.\n",
    "\n",
    "Please note that there may be several ways to approach each challenge. If you get stuck, try mapping out your approach in pseudocode first. Finally, while solutions to problems like these may be found online, remember that if you copy/paste code that you can't explain, you'll be missing out on the point of the project. The only way to truly learn a new skill is through practice, trial, and error - we can only help you improve by understanding where you are having trouble."
   ]
  },
  {
   "cell_type": "code",
   "execution_count": null,
   "metadata": {},
   "outputs": [],
   "source": [
    "### Challenge 1: Largest Palindrome\n",
    "A palindromic number reads the same both ways. For example, 1234321 is a palindrome. The largest palindrome made from the product of two two-digit numbers is 9009 = 91 × 99. Find the largest palindrome made from the product of two three-digit numbers. Afterward, write a brief explanation walking through your code's logic in markdown."
   ]
  },
  {
   "cell_type": "markdown",
   "metadata": {},
   "source": [
    "Defined a function named check_palindrome.To check it has same characater from both the sides we use reverse the list formula.\n",
    "As we need to multiply 3 digit largest numbers,hence taken 2 variables i and j.\n",
    "using for loop, we find the product.convert the product as string and check if the product is palindrome.\n",
    "As we need the largest of that prouct.We use max function.Final output is what are the 3 digit numbers and their maximum."
   ]
  },
  {
   "cell_type": "code",
   "execution_count": 4,
   "metadata": {},
   "outputs": [
    {
     "name": "stdout",
     "output_type": "stream",
     "text": [
      "906609\n"
     ]
    }
   ],
   "source": [
    "def check_palindrome(s):\n",
    "    \n",
    "    return s == s[::-1]\n",
    "\n",
    "max_product = 0\n",
    "for i in range(999, 100, -1):\n",
    "    for j in range(i, 100, -1):\n",
    "        product = i * j\n",
    "        if check_palindrome(str(product)):\n",
    "            max_product = max(max_product, product)\n",
    "print(max_product)"
   ]
  },
  {
   "cell_type": "markdown",
   "metadata": {},
   "source": [
    "### Challenge 2: Summation of Primes\n",
    "The sum of the primes below 10 is 2 + 3 + 5 + 7 = 17. Find the sum of all the primes below 2,000. Afterward, write a brief explanation walking through your code's logic in markdown."
   ]
  },
  {
   "cell_type": "markdown",
   "metadata": {},
   "source": [
    "Imported math function to get access to mathematical functions.\n",
    "Defined a function called isPrime.\n",
    "conditions for prime number.\n",
    "1. 0 and 1 are not prime numbers. \n",
    "2. no even number greater than 2 is a prime number.\n",
    "3. Any number when divided gets reminder as \"0\" is not a prime number.\n",
    "Initially we take sum as zero and empty list for prime.\n",
    "As we need prime numbers < 2000 and to include the last number 2000 in the list we have given it as 2001.\n",
    "used a for loop which checks goes to the function isPrime and if it is true then it is added to sum and also this is appended to empty list of prime.Output is sum and list of prime numbers once all iterations are completed.\n"
   ]
  },
  {
   "cell_type": "code",
   "execution_count": 5,
   "metadata": {
    "scrolled": true
   },
   "outputs": [
    {
     "name": "stdout",
     "output_type": "stream",
     "text": [
      "277050\n",
      "[2, 3, 5, 7, 11, 13, 17, 19, 23, 29, 31, 37, 41, 43, 47, 53, 59, 61, 67, 71, 73, 79, 83, 89, 97, 101, 103, 107, 109, 113, 127, 131, 137, 139, 149, 151, 157, 163, 167, 173, 179, 181, 191, 193, 197, 199, 211, 223, 227, 229, 233, 239, 241, 251, 257, 263, 269, 271, 277, 281, 283, 293, 307, 311, 313, 317, 331, 337, 347, 349, 353, 359, 367, 373, 379, 383, 389, 397, 401, 409, 419, 421, 431, 433, 439, 443, 449, 457, 461, 463, 467, 479, 487, 491, 499, 503, 509, 521, 523, 541, 547, 557, 563, 569, 571, 577, 587, 593, 599, 601, 607, 613, 617, 619, 631, 641, 643, 647, 653, 659, 661, 673, 677, 683, 691, 701, 709, 719, 727, 733, 739, 743, 751, 757, 761, 769, 773, 787, 797, 809, 811, 821, 823, 827, 829, 839, 853, 857, 859, 863, 877, 881, 883, 887, 907, 911, 919, 929, 937, 941, 947, 953, 967, 971, 977, 983, 991, 997, 1009, 1013, 1019, 1021, 1031, 1033, 1039, 1049, 1051, 1061, 1063, 1069, 1087, 1091, 1093, 1097, 1103, 1109, 1117, 1123, 1129, 1151, 1153, 1163, 1171, 1181, 1187, 1193, 1201, 1213, 1217, 1223, 1229, 1231, 1237, 1249, 1259, 1277, 1279, 1283, 1289, 1291, 1297, 1301, 1303, 1307, 1319, 1321, 1327, 1361, 1367, 1373, 1381, 1399, 1409, 1423, 1427, 1429, 1433, 1439, 1447, 1451, 1453, 1459, 1471, 1481, 1483, 1487, 1489, 1493, 1499, 1511, 1523, 1531, 1543, 1549, 1553, 1559, 1567, 1571, 1579, 1583, 1597, 1601, 1607, 1609, 1613, 1619, 1621, 1627, 1637, 1657, 1663, 1667, 1669, 1693, 1697, 1699, 1709, 1721, 1723, 1733, 1741, 1747, 1753, 1759, 1777, 1783, 1787, 1789, 1801, 1811, 1823, 1831, 1847, 1861, 1867, 1871, 1873, 1877, 1879, 1889, 1901, 1907, 1913, 1931, 1933, 1949, 1951, 1973, 1979, 1987, 1993, 1997, 1999]\n"
     ]
    }
   ],
   "source": [
    "import math\n",
    "\n",
    "def isPrime(n):\n",
    "    if n < 2:\n",
    "        return False\n",
    "    for i in range(2, int(n**0.5) + 1):\n",
    "        if n%i==0:\n",
    "            return False\n",
    "    return True\n",
    "    \n",
    "sum=0\n",
    "prime=[]\n",
    "for i in range(0,2000):\n",
    "    if isPrime(i):\n",
    "        sum +=i\n",
    "        prime.append(i)\n",
    "\n",
    "print(sum)\n",
    "print(prime)"
   ]
  },
  {
   "cell_type": "code",
   "execution_count": null,
   "metadata": {},
   "outputs": [],
   "source": [
    "### Challenge 3: Multiples of 3 and 5\n",
    "If we list all of the natural numbers below 10 that are multiples of 3 or 5, we get 3, 5, 6, and 9. The sum of these multiples is 23. Find the sum of all the multiples of 3 and 5 below 1,000. Afterward, write a brief explanation walking through your code's logic in markdown."
   ]
  },
  {
   "cell_type": "markdown",
   "metadata": {},
   "source": [
    "Have taken 2 variables a and b.Initialized a and b to zero.Taken empty list named multiple.Used while loop where it\n",
    "starts from a=3 and is appended to empty list.This is continued until 999.Same is done with \"b\" for finding multiples of 5\n",
    "As we need to find the sum of these multiples.Initialiezed sum as zero.\n",
    "Taken a range of list multiple until last number hence we take length of the list.\n",
    "add the items from list to sum to get the total of all the numbers in the list.\n"
   ]
  },
  {
   "cell_type": "code",
   "execution_count": 6,
   "metadata": {},
   "outputs": [
    {
     "name": "stdout",
     "output_type": "stream",
     "text": [
      "268335\n"
     ]
    }
   ],
   "source": [
    "a = 0\n",
    "b = 0\n",
    "multiple = []\n",
    "\n",
    "while a < 1000:\n",
    "    a = a + 3\n",
    "    multiple.append(a)\n",
    "\n",
    "while b < 1000:\n",
    "    b = b + 5\n",
    "    multiple.append(b)\n",
    "        \n",
    "sum = 0\n",
    "for i in range(len(multiple)):\n",
    "    sum += multiple[i]\n",
    "print(sum)\n",
    "    \n",
    "\n",
    "\n",
    "    \n",
    "    "
   ]
  },
  {
   "cell_type": "code",
   "execution_count": null,
   "metadata": {},
   "outputs": [],
   "source": [
    "### Challenge 4: String Compressor\n",
    "Implement a method to perform basic string compression using the counts of repeated characters. (This is called run-length encoding.) For example, the string \"aabcccccaaa\" would become a2b1c5a3. If the “compressed” string would not become smaller than the original string, your method should return the original string. You can assume the string has only uppercase and lowercase letters (a–z). Specify whether your solution is case sensitive or case insensitive and what you would need to change to make it the other. Afterward, write a brief explanation walking through your code's logic in markdown."
   ]
  },
  {
   "cell_type": "markdown",
   "metadata": {},
   "source": [
    "Defined function called compress.str1 is the input string.Empty list named res.Take count as 0.As we need to\n",
    "check the previous character is same as the one we are checking and add count.\n",
    "have used for loop.For example we start with 'a'which is stored in prev.second character is also 'a' if condition is true\n",
    "hence in the list res a is concatenated with count which is converted to string.so res is now 'a2'For char 'b'\n",
    "if condition is false hence goes to else where res is a2.Hence we add the new char and its count as 1 since it \n",
    "is not same as prev one and for loop continues until the last character.''.join will add for example 'a','2','b'..etc to 'a2b'.If the compressed string is greater than original no use in compressing hence will return original.If not\n",
    "then will generate the compressed string.\n",
    "\n",
    "\n"
   ]
  },
  {
   "cell_type": "code",
   "execution_count": 76,
   "metadata": {},
   "outputs": [
    {
     "name": "stdout",
     "output_type": "stream",
     "text": [
      "a2b1c4a3\n"
     ]
    }
   ],
   "source": [
    "def compress(str1):\n",
    "    res = []\n",
    "    count=0\n",
    "    prev = str1[0]\n",
    "    \n",
    "    for char in str1:\n",
    "        if char == prev:\n",
    "            count +=1\n",
    "        else:\n",
    "            res += prev+str(count)\n",
    "            prev = char\n",
    "            count = 1\n",
    "    res += prev+str(count)\n",
    "    res= ''.join(res)\n",
    "        \n",
    "    if len(res) < len(str1):\n",
    "        return res\n",
    "    else:\n",
    "        return str1\n",
    "    \n",
    "print(compress(\"aabccccaaa\"))\n",
    "        \n",
    "            "
   ]
  },
  {
   "cell_type": "markdown",
   "metadata": {},
   "source": [
    "### *BONUS* Challenge: FizzBuzz\n",
    "Write a program that prints all of the numbers from 1 to 100. For multiples of 3, instead of the number, print \"Fizz;\" for multiples of 5, print \"Buzz.\" For numbers that are multiples of both 3 and 5, print \"FizzBuzz.\" Afterward, write a brief explanation walking through your code's logic in markdown."
   ]
  },
  {
   "cell_type": "code",
   "execution_count": null,
   "metadata": {
    "collapsed": true
   },
   "outputs": [],
   "source": []
  }
 ],
 "metadata": {
  "anaconda-cloud": {},
  "kernelspec": {
   "display_name": "Python 3",
   "language": "python",
   "name": "python3"
  },
  "language_info": {
   "codemirror_mode": {
    "name": "ipython",
    "version": 3
   },
   "file_extension": ".py",
   "mimetype": "text/x-python",
   "name": "python",
   "nbconvert_exporter": "python",
   "pygments_lexer": "ipython3",
   "version": "3.6.5"
  }
 },
 "nbformat": 4,
 "nbformat_minor": 2
}
